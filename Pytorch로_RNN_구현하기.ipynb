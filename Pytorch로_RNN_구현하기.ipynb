{
  "nbformat": 4,
  "nbformat_minor": 0,
  "metadata": {
    "colab": {
      "provenance": []
    },
    "kernelspec": {
      "name": "python3",
      "display_name": "Python 3"
    },
    "language_info": {
      "name": "python"
    }
  },
  "cells": [
    {
      "cell_type": "markdown",
      "source": [
        "# Pytorch로 RNN 구현하기\n",
        "참고 : https://justkode.kr/deep-learning/pytorch-rnn\n",
        "\n",
        "- input_size : Input의 사이즈에 해당하는 수를 입력\n",
        "- hidden_size : 은닉층의 사이즈에 해당하는 수를 입력\n",
        "- num_layers : RNN의 은닉층 레이어 갯수. (기본값은 1)\n",
        "- nonlinearity : 비선형 활성화 함수를 선택 tanh, relu 중 선택 가능 (기본값은 tanh)\n",
        "- bias : 바이어스 값 활성화 여부를 선택 (기본값은 True)\n",
        "- batch_first : True일 시, output 값의 사이즈는 (batch, seq, feature) (기본값은 False)\n",
        "- dropout : 드롭아웃 비율을 설정 (기본값은 0)\n",
        "- bidirectional : True일 시 양방향 RNN (기본값은 False)"
      ],
      "metadata": {
        "id": "lB94FECv00Xw"
      }
    },
    {
      "cell_type": "code",
      "execution_count": 1,
      "metadata": {
        "id": "03TeuTm_0SXZ"
      },
      "outputs": [],
      "source": [
        "import numpy as np\n",
        "import torch\n",
        "import torch.nn as nn\n",
        "import torch.optim as optim\n",
        "\n",
        "sentences = [\"i like dog\", \"i love coffee\", \"i hate milk\", \"you like cat\", \"you love milk\",\n",
        "            \"you hate coffee\"]\n",
        "dtype = torch.float"
      ]
    },
    {
      "cell_type": "markdown",
      "source": [
        "## Word processing"
      ],
      "metadata": {
        "id": "x6dBzvPp05V-"
      }
    },
    {
      "cell_type": "code",
      "source": [
        "word_list = list(set(\" \".join(sentences).split()))\n",
        "print(f\"word_list = {word_list}\")\n",
        "word_dict = {w: i for i, w in enumerate(word_list)}\n",
        "print(f\"word_dict = {word_dict}\")\n",
        "number_dict = {i: w for i, w in enumerate(word_list)}\n",
        "print(f\"number_dict = {number_dict}\")\n",
        "n_class = len(word_dict)\n",
        "print(f\"n_class = {n_class}\")"
      ],
      "metadata": {
        "colab": {
          "base_uri": "https://localhost:8080/"
        },
        "id": "Gtt0rbN80Ujj",
        "outputId": "ab38c36d-aa66-477f-cd47-e9f06a9dc261"
      },
      "execution_count": 2,
      "outputs": [
        {
          "output_type": "stream",
          "name": "stdout",
          "text": [
            "word_list = ['i', 'coffee', 'like', 'cat', 'hate', 'milk', 'love', 'you', 'dog']\n",
            "word_dict = {'i': 0, 'coffee': 1, 'like': 2, 'cat': 3, 'hate': 4, 'milk': 5, 'love': 6, 'you': 7, 'dog': 8}\n",
            "number_dict = {0: 'i', 1: 'coffee', 2: 'like', 3: 'cat', 4: 'hate', 5: 'milk', 6: 'love', 7: 'you', 8: 'dog'}\n",
            "n_class = 9\n"
          ]
        }
      ]
    },
    {
      "cell_type": "markdown",
      "source": [
        "## TextRNN Parameter"
      ],
      "metadata": {
        "id": "Ob5FuUfN07--"
      }
    },
    {
      "cell_type": "code",
      "source": [
        "batch_size = len(sentences)\n",
        "n_step = 2 #학습하려고 하는 문장의 길이 -1\n",
        "n_hidden = 5 #은닉층 사이즈\n",
        "\n",
        "def make_batch(sentences):\n",
        "    input_batch = []\n",
        "    target_batch = []\n",
        "    \n",
        "    for sen in sentences:\n",
        "        word = sen.split()\n",
        "        input = [word_dict[n] for n in word[:-1]]\n",
        "        target = word_dict[word[-1]]\n",
        "        \n",
        "        input_batch.append(np.eye(n_class)[input]) #one-hot encoding\n",
        "        target_batch.append(target)\n",
        "        \n",
        "    return input_batch, target_batch\n",
        "\n",
        "input_batch, target_batch = make_batch(sentences)\n",
        "print(f\"input_batch, target_batch = {input_batch, target_batch}\")\n",
        "input_batch = torch.tensor(input_batch, dtype=torch.float32, requires_grad=True)\n",
        "print(f\"input_batch = {input_batch}\")\n",
        "target_batch = torch.tensor(target_batch, dtype=torch.int64)\n",
        "print(f\"target_batch = {target_batch}\")"
      ],
      "metadata": {
        "colab": {
          "base_uri": "https://localhost:8080/"
        },
        "id": "3MIzDfh_0V_n",
        "outputId": "4807b865-b823-4bc8-c9e2-5f4f72243319"
      },
      "execution_count": 3,
      "outputs": [
        {
          "output_type": "stream",
          "name": "stdout",
          "text": [
            "input_batch, target_batch = ([array([[1., 0., 0., 0., 0., 0., 0., 0., 0.],\n",
            "       [0., 0., 1., 0., 0., 0., 0., 0., 0.]]), array([[1., 0., 0., 0., 0., 0., 0., 0., 0.],\n",
            "       [0., 0., 0., 0., 0., 0., 1., 0., 0.]]), array([[1., 0., 0., 0., 0., 0., 0., 0., 0.],\n",
            "       [0., 0., 0., 0., 1., 0., 0., 0., 0.]]), array([[0., 0., 0., 0., 0., 0., 0., 1., 0.],\n",
            "       [0., 0., 1., 0., 0., 0., 0., 0., 0.]]), array([[0., 0., 0., 0., 0., 0., 0., 1., 0.],\n",
            "       [0., 0., 0., 0., 0., 0., 1., 0., 0.]]), array([[0., 0., 0., 0., 0., 0., 0., 1., 0.],\n",
            "       [0., 0., 0., 0., 1., 0., 0., 0., 0.]])], [8, 1, 5, 3, 5, 1])\n",
            "input_batch = tensor([[[1., 0., 0., 0., 0., 0., 0., 0., 0.],\n",
            "         [0., 0., 1., 0., 0., 0., 0., 0., 0.]],\n",
            "\n",
            "        [[1., 0., 0., 0., 0., 0., 0., 0., 0.],\n",
            "         [0., 0., 0., 0., 0., 0., 1., 0., 0.]],\n",
            "\n",
            "        [[1., 0., 0., 0., 0., 0., 0., 0., 0.],\n",
            "         [0., 0., 0., 0., 1., 0., 0., 0., 0.]],\n",
            "\n",
            "        [[0., 0., 0., 0., 0., 0., 0., 1., 0.],\n",
            "         [0., 0., 1., 0., 0., 0., 0., 0., 0.]],\n",
            "\n",
            "        [[0., 0., 0., 0., 0., 0., 0., 1., 0.],\n",
            "         [0., 0., 0., 0., 0., 0., 1., 0., 0.]],\n",
            "\n",
            "        [[0., 0., 0., 0., 0., 0., 0., 1., 0.],\n",
            "         [0., 0., 0., 0., 1., 0., 0., 0., 0.]]], requires_grad=True)\n",
            "target_batch = tensor([8, 1, 5, 3, 5, 1])\n"
          ]
        },
        {
          "output_type": "stream",
          "name": "stderr",
          "text": [
            "<ipython-input-3-257c8e02e397>:21: UserWarning: Creating a tensor from a list of numpy.ndarrays is extremely slow. Please consider converting the list to a single numpy.ndarray with numpy.array() before converting to a tensor. (Triggered internally at ../torch/csrc/utils/tensor_new.cpp:230.)\n",
            "  input_batch = torch.tensor(input_batch, dtype=torch.float32, requires_grad=True)\n"
          ]
        }
      ]
    },
    {
      "cell_type": "markdown",
      "source": [
        "## TextRNN"
      ],
      "metadata": {
        "id": "4j1buPQB1AcZ"
      }
    },
    {
      "cell_type": "code",
      "source": [
        "class TextRNN(nn.Module):\n",
        "    def __init__(self):\n",
        "        super(TextRNN, self).__init__()\n",
        "        \n",
        "        self.rnn = nn.RNN(input_size=n_class, hidden_size=n_hidden, dropout=0.3)\n",
        "        self.W = nn.Parameter(torch.randn([n_hidden, n_class]).type(dtype))\n",
        "        self.b = nn.Parameter(torch.randn([n_class]).type(dtype))\n",
        "        self.Softmax = nn.Softmax(dim=1)\n",
        "        \n",
        "    def forward(self, hidden, X):\n",
        "        X = X.transpose(0, 1)\n",
        "        outputs, hidden = self.rnn(X, hidden)\n",
        "        outputs = outputs[-1] #최종 예측 hidden Layer\n",
        "        model = torch.mm(outputs, self.W) + self.b #최종 예측 최종 출력층\n",
        "        return model"
      ],
      "metadata": {
        "id": "1uHQwZSO0YFI"
      },
      "execution_count": 4,
      "outputs": []
    },
    {
      "cell_type": "markdown",
      "source": [
        "## Training"
      ],
      "metadata": {
        "id": "Rg3AxK_01Cow"
      }
    },
    {
      "cell_type": "code",
      "source": [
        "model = TextRNN()\n",
        "criterion = nn.CrossEntropyLoss()\n",
        "optimizer = optim.Adam(model.parameters(), lr=0.01)\n",
        "\n",
        "for epoch in range(500):\n",
        "    hidden = torch.zeros(1, batch_size, n_hidden, requires_grad=True)\n",
        "    output = model(hidden, input_batch)\n",
        "    loss = criterion(output, target_batch)\n",
        "    \n",
        "    if (epoch + 1) % 100 == 0:\n",
        "        print('Epoch: ', '%04d'%(epoch + 1), 'cost = ', '{:.6f}'.format(loss))\n",
        "        \n",
        "    optimizer.zero_grad()\n",
        "    loss.backward()\n",
        "    optimizer.step()\n",
        "    \n",
        "input = [sen.split()[:2] for sen in sentences]\n",
        "\n",
        "hidden = torch.zeros(1, batch_size, n_hidden, requires_grad=True)\n",
        "predict = model(hidden, input_batch).data.max(1, keepdim=True)[1]\n",
        "print([sen.split()[:2] for sen in sentences], '->', [number_dict[n.item()] for n in predict.squeeze()])"
      ],
      "metadata": {
        "colab": {
          "base_uri": "https://localhost:8080/"
        },
        "id": "STlF3Yyz0aAZ",
        "outputId": "c1daee25-05eb-49f2-ecf3-6d5550bec8b7"
      },
      "execution_count": 5,
      "outputs": [
        {
          "output_type": "stream",
          "name": "stderr",
          "text": [
            "/usr/local/lib/python3.8/dist-packages/torch/nn/modules/rnn.py:67: UserWarning: dropout option adds dropout after all but last recurrent layer, so non-zero dropout expects num_layers greater than 1, but got dropout=0.3 and num_layers=1\n",
            "  warnings.warn(\"dropout option adds dropout after all but last \"\n"
          ]
        },
        {
          "output_type": "stream",
          "name": "stdout",
          "text": [
            "Epoch:  0100 cost =  0.430150\n",
            "Epoch:  0200 cost =  0.065829\n",
            "Epoch:  0300 cost =  0.024365\n",
            "Epoch:  0400 cost =  0.013674\n",
            "Epoch:  0500 cost =  0.009024\n",
            "[['i', 'like'], ['i', 'love'], ['i', 'hate'], ['you', 'like'], ['you', 'love'], ['you', 'hate']] -> ['dog', 'coffee', 'milk', 'cat', 'milk', 'coffee']\n"
          ]
        }
      ]
    },
    {
      "cell_type": "code",
      "source": [],
      "metadata": {
        "id": "5N0SWXiP0c9k"
      },
      "execution_count": null,
      "outputs": []
    }
  ]
}